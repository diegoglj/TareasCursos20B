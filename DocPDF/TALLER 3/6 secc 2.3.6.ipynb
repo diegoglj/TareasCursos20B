{
 "cells": [
  {
   "cell_type": "code",
   "execution_count": 2,
   "id": "e5b93913-2f93-4c64-8889-86c53469adff",
   "metadata": {},
   "outputs": [],
   "source": [
    "from sympy import *\n",
    "from sympy import Symbol, Poly,legendre\n",
    "\n",
    "class GramSchmidt:\n",
    "  def __init__(self, var, vectores):\n",
    "    self.var = var\n",
    "    self.vectores = vectores\n",
    "\n",
    "  def inner_chevichev(self, v1, v2):\n",
    "    return integrate((v1 * v2) * (sqrt(1 - (self.var)**2)) , (self.var, -1, 1))\n",
    "\n",
    "  def inner_legendre(self, v1, v2):\n",
    "    return integrate((v1 * v2), (self.var, -1, 1))\n",
    "\n",
    "  def gram_schmidt_chevichev(self):\n",
    "    \"\"\"\n",
    "    Aplica el algoritmo de Gram-Schmidt a los vectores.\n",
    "    Retorno:\n",
    "      Una lista de vectores ortogonales.\n",
    "    \"\"\"\n",
    "    vectores_ortonormales = []\n",
    "    for vector in self.vectores:\n",
    "      proyeccion = 0\n",
    "      for vector_ortonormal in vectores_ortonormales:\n",
    "        #print(vector)\n",
    "        #print(vector_ortonormal)\n",
    "        proyeccion += (self.inner_chevichev(vector, vector_ortonormal) / self.inner_chevichev(vector_ortonormal, vector_ortonormal)) * vector_ortonormal\n",
    "      vector_menos_proyeccion = (vector - proyeccion)\n",
    "      #vector_ortonormal = vector_menos_proyeccion / (self.inner_chevichev(vector_menos_proyeccion, vector_menos_proyeccion))\n",
    "      vectores_ortonormales.append(vector_menos_proyeccion)\n",
    "    return vectores_ortonormales\n",
    "\n",
    "  def gram_schmidt_legendre(self):\n",
    "    \"\"\"\n",
    "    Aplica el algoritmo de Gram-Schmidt a los vectores.\n",
    "    Retorno:\n",
    "      Una lista de vectores ortogonales.\n",
    "    \"\"\"\n",
    "    vectores_ortonormales = []\n",
    "    for vector in self.vectores:\n",
    "      proyeccion = 0\n",
    "      for vector_ortonormal in vectores_ortonormales:\n",
    "        #print(vector)\n",
    "        #print(vector_ortonormal)\n",
    "        proyeccion += (self.inner_legendre(vector, vector_ortonormal) / self.inner_legendre(vector_ortonormal, vector_ortonormal)) * vector_ortonormal\n",
    "      vector_menos_proyeccion = (vector - proyeccion)\n",
    "      #vector_ortonormal = vector_menos_proyeccion / (self.inner_legendre(vector_menos_proyeccion, vector_menos_proyeccion))\n",
    "      vectores_ortonormales.append(vector_menos_proyeccion)\n",
    "    return vectores_ortonormales"
   ]
  },
  {
   "cell_type": "code",
   "execution_count": 5,
   "id": "bfa4b241-1582-4074-80f7-e975ef9cf820",
   "metadata": {},
   "outputs": [
    {
     "name": "stdout",
     "output_type": "stream",
     "text": [
      "polinomios chevichev_second_kind: \n",
      "1\n",
      "t\n",
      "(2*t - 1)*(2*t + 1)/4\n",
      "t*(2*t**2 - 1)/2\n",
      "(4*t**2 - 2*t - 1)*(4*t**2 + 2*t - 1)/16\n",
      "t*(2*t - 1)*(2*t + 1)*(4*t**2 - 3)/16\n",
      "(8*t**3 - 4*t**2 - 4*t + 1)*(8*t**3 + 4*t**2 - 4*t - 1)/64\n",
      "t*(2*t**2 - 1)*(8*t**4 - 8*t**2 + 1)/16\n"
     ]
    },
    {
     "data": {
      "text/plain": [
       "\"\\nprint('Exponentes en funcion de los polinomios legendre')\\ngram_schmidt_inner = GramSchmidt(var, vectores)\\nvectores_ortonormales = gram_schmidt_inner.gram_schmidt_legendre()\\nfor vector_ortonormal in vectores_ortonormales:\\n  print((factor(vector_ortonormal)))\\n#legendre(2, t)\\n\""
      ]
     },
     "execution_count": 5,
     "metadata": {},
     "output_type": "execute_result"
    }
   ],
   "source": [
    "\n",
    "# Ejemplo de uso\n",
    "var = Symbol('t')\n",
    "t = symbols('t')\n",
    "i0 = 1\n",
    "i1 = t\n",
    "i2 = t**2\n",
    "i3 = t**3\n",
    "i4 = t**4\n",
    "i5 = t**5\n",
    "i6 = t**6\n",
    "i7 = t**7\n",
    "vectores = [i0,i1,i2,i3,i4,i5,i6,i7]\n",
    "\n",
    "print('polinomios chevichev_second_kind: ')\n",
    "gram_schmidt_inner = GramSchmidt(var, vectores)\n",
    "vectores_ortonormales = gram_schmidt_inner.gram_schmidt_chevichev()\n",
    "for vector_ortonormal in vectores_ortonormales:\n",
    "  print((factor(vector_ortonormal)))\n",
    "  \n",
    " \n",
    "'''\n",
    "print('Exponentes en funcion de los polinomios legendre')\n",
    "gram_schmidt_inner = GramSchmidt(var, vectores)\n",
    "vectores_ortonormales = gram_schmidt_inner.gram_schmidt_legendre()\n",
    "for vector_ortonormal in vectores_ortonormales:\n",
    "  print((factor(vector_ortonormal)))\n",
    "#legendre(2, t)\n",
    "'''"
   ]
  },
  {
   "cell_type": "code",
   "execution_count": null,
   "id": "00e52661-3f0d-49ae-aeda-efa798b3bf7f",
   "metadata": {},
   "outputs": [],
   "source": []
  }
 ],
 "metadata": {
  "kernelspec": {
   "display_name": "Python 3 (ipykernel)",
   "language": "python",
   "name": "python3"
  },
  "language_info": {
   "codemirror_mode": {
    "name": "ipython",
    "version": 3
   },
   "file_extension": ".py",
   "mimetype": "text/x-python",
   "name": "python",
   "nbconvert_exporter": "python",
   "pygments_lexer": "ipython3",
   "version": "3.11.5"
  }
 },
 "nbformat": 4,
 "nbformat_minor": 5
}
