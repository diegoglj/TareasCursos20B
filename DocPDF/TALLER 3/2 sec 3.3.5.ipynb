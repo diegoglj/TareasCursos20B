{
 "cells": [
  {
   "cell_type": "code",
   "execution_count": 26,
   "id": "b9aaa118-3a97-4e8d-ab76-11e2155fa179",
   "metadata": {},
   "outputs": [
    {
     "name": "stdout",
     "output_type": "stream",
     "text": [
      "Original:\n",
      "⎡0.5   1   1.5⎤\n",
      "⎢             ⎥\n",
      "⎢ 2   2.5   3 ⎥\n",
      "⎢             ⎥\n",
      "⎣3.5   4   4.5⎦\n",
      "T:\n",
      "⎡0.333333333333333⎤\n",
      "⎢                 ⎥\n",
      "⎢0.666666666666667⎥\n",
      "⎢                 ⎥\n",
      "⎣        1        ⎦\n",
      "g:Metrica: \n",
      "⎡1  0   0⎤\n",
      "⎢        ⎥\n",
      "⎢0  -1  0⎥\n",
      "⎢        ⎥\n",
      "⎣0  0   1⎦\n"
     ]
    }
   ],
   "source": [
    "import sympy as sym\n",
    "from sympy import  pprint\n",
    "from sympy import Array, tensorproduct, tensorcontraction\n",
    "from sympy.abc import x,y,z,t\n",
    "\n",
    "# Definir símbolos\n",
    "i, j, k, l = sym.symbols('i j k l')\n",
    "\n",
    "# Definir matrices de tensores explícitamente\n",
    "R = sym.Matrix([[1/2, 1, 3/2], [2, 5/2, 3], [7/2, 4, 9/2],])\n",
    "T = sym.Matrix([[1/3], [2/3], [1]])\n",
    "\n",
    "#Metrica\n",
    "g = sym.Matrix([[1, 0, 0], [0, -1, 0], [0, 0, 1]])\n",
    "\n",
    "print('Original:')\n",
    "pprint(R)\n",
    "\n",
    "print('T:')\n",
    "pprint(T)\n",
    "\n",
    "print('g:Metrica: ')\n",
    "pprint(g)\n",
    "\n"
   ]
  },
  {
   "attachments": {
    "f0fb8393-428d-45b4-93ff-f937f5a5c108.png": {
     "image/png": "[encoded data removed]"
    }
   },
   "cell_type": "markdown",
   "id": "054e0fbc-b099-4223-a969-9769c67e251f",
   "metadata": {},
   "source": [
    "![image.png](attachment:f0fb8393-428d-45b4-93ff-f937f5a5c108.png)"
   ]
  },
  {
   "cell_type": "code",
   "execution_count": 27,
   "id": "a9b903b1-e3c0-4054-86bb-ee9e50c823e9",
   "metadata": {},
   "outputs": [
    {
     "name": "stdout",
     "output_type": "stream",
     "text": [
      "Simetrica\n",
      "⎡0.5  1.5  2.5⎤\n",
      "⎢             ⎥\n",
      "⎢1.5  2.5  3.5⎥\n",
      "⎢             ⎥\n",
      "⎣2.5  3.5  4.5⎦\n",
      "Antisimetrica\n",
      "⎡ 0   -0.5  -1.0⎤\n",
      "⎢               ⎥\n",
      "⎢0.5   0    -0.5⎥\n",
      "⎢               ⎥\n",
      "⎣1.0  0.5    0  ⎦\n",
      "⎡3.25  1.0  -1.25⎤\n",
      "⎢                ⎥\n",
      "⎢4.75  1.0  -2.75⎥\n",
      "⎢                ⎥\n",
      "⎣6.25  1.0  -4.25⎦\n"
     ]
    },
    {
     "data": {
      "text/latex": [
       "$\\displaystyle 0$"
      ],
      "text/plain": [
       "0"
      ]
     },
     "execution_count": 27,
     "metadata": {},
     "output_type": "execute_result"
    }
   ],
   "source": [
    "# S = sym.Matrix()  # Matriz para almacenar S\n",
    "A = sym.Matrix()  # Matriz para almacenar A\n",
    "\n",
    "# Parte simétrica\n",
    "S = (1/2) * (R + R.T)\n",
    "\n",
    "# Parte antisimétrica\n",
    "A = (1/2) * (R - R.T)\n",
    "\n",
    "print('Simetrica')\n",
    "pprint(S)\n",
    "\n",
    "print('Antisimetrica')\n",
    "pprint(A)\n",
    "\n",
    "\n",
    "Prueba_simetria = S * A\n",
    "C = tensorproduct(S, A)\n",
    "cantidad_indices = C.rank()\n",
    "pprint(Prueba_simetria)\n",
    "tensorcontraction(C, (0, 1, 2, 3)) # al seleccionar todos los indices estoy haciendo una contraccion sobre todo el tensor\n"
   ]
  },
  {
   "cell_type": "code",
   "execution_count": null,
   "id": "5fe96dd1-7fdc-4017-9755-2b932d45a996",
   "metadata": {},
   "outputs": [],
   "source": []
  },
  {
   "attachments": {
    "c500cb40-88bc-4db6-b032-faa3eb202f14.png": {
     "image/png": "[encoded data removed]"
    }
   },
   "cell_type": "markdown",
   "id": "3549a02f-f42d-4c7b-8669-13cd98f1d488",
   "metadata": {},
   "source": [
    "![image.png](attachment:c500cb40-88bc-4db6-b032-faa3eb202f14.png)"
   ]
  },
  {
   "cell_type": "markdown",
   "id": "6d40ff0d-82b6-4919-808a-e21394b1747c",
   "metadata": {},
   "source": [
    "Sabemos que g es simetrica\n",
    "\n",
    "entonces la metrica funciona tanto como para como bajar indices como para subirlos si estos son repetidos\n"
   ]
  },
  {
   "cell_type": "code",
   "execution_count": 23,
   "id": "db4e4a2c-b8d2-4e02-9e7d-dbb02c73e1c5",
   "metadata": {},
   "outputs": [],
   "source": [
    "#C = tensorproduct(g, R)\n",
    "#R_kj = tensorcontraction(C, (0, 1, 2))\n",
    "#R_ki = tensorcontraction(C, (3, 2, 1))\n",
    "#R_ki, R_kj"
   ]
  },
  {
   "attachments": {
    "4df4eff1-6d98-4283-8439-62bf8f3865a2.png": {
     "image/png": "[encoded data removed]"
    }
   },
   "cell_type": "markdown",
   "id": "b4d68574-1d01-4f62-9b09-8caa28c12d8f",
   "metadata": {},
   "source": [
    "![image.png](attachment:4df4eff1-6d98-4283-8439-62bf8f3865a2.png)"
   ]
  },
  {
   "cell_type": "code",
   "execution_count": 30,
   "id": "d9fb0dec-15ec-45f7-8475-be5e86ac4d8a",
   "metadata": {},
   "outputs": [
    {
     "name": "stdout",
     "output_type": "stream",
     "text": [
      "⎡2.33333333333333⎤\n",
      "⎢                ⎥\n",
      "⎢5.33333333333333⎥\n",
      "⎢                ⎥\n",
      "⎣8.33333333333333⎦\n",
      "⎡2.33333333333333⎤\n",
      "⎢                ⎥\n",
      "⎢5.33333333333333⎥\n",
      "⎢                ⎥\n",
      "⎣8.33333333333333⎦\n",
      "⎡0.777777777777778  1.55555555555556  2.33333333333333⎤\n",
      "⎢                                                     ⎥\n",
      "⎢1.77777777777778   3.55555555555556  5.33333333333333⎥\n",
      "⎢                                                     ⎥\n",
      "⎣2.77777777777778   5.55555555555555  8.33333333333333⎦\n"
     ]
    }
   ],
   "source": [
    "#Rî_j*T_i\n",
    "Rî_jT_i = R * T\n",
    "pprint(Rî_jT_i) \n",
    "\n",
    "#Rî_j*T_j\n",
    "Rî_jT_j = R * T\n",
    "pprint(Rî_jT_j) \n",
    "\n",
    "#Rî_j*T_i*T_j\n",
    "Rî_jT_iT_j = R * T * T.T\n",
    "pprint(Rî_jT_iT_j) "
   ]
  },
  {
   "attachments": {
    "060ece83-4628-4bb3-930f-32801843ed24.png": {
     "image/png": "[encoded data removed]"
    }
   },
   "cell_type": "markdown",
   "id": "19ede752-cfeb-44a8-afef-9d31a2df54dd",
   "metadata": {},
   "source": [
    "![image.png](attachment:060ece83-4628-4bb3-930f-32801843ed24.png)"
   ]
  },
  {
   "cell_type": "code",
   "execution_count": 8,
   "id": "607f1c26-2532-40ad-9982-a61d3ded6568",
   "metadata": {},
   "outputs": [
    {
     "name": "stdout",
     "output_type": "stream",
     "text": [
      "⎡ 5.5    8.5   11.5 ⎤\n",
      "⎢                   ⎥\n",
      "⎢12.25  19.75  27.25⎥\n",
      "⎢                   ⎥\n",
      "⎣19.0   31.0   43.0 ⎦\n",
      "⎡2.0   0.5  -1.0 ⎤\n",
      "⎢                ⎥\n",
      "⎢4.25  0.5  -3.25⎥\n",
      "⎢                ⎥\n",
      "⎣6.5   0.5  -5.5 ⎦\n",
      "⎡-1.33333333333333 ⎤\n",
      "⎢                  ⎥\n",
      "⎢-0.333333333333333⎥\n",
      "⎢                  ⎥\n",
      "⎣0.666666666666667 ⎦\n",
      "⎡-0.444444444444444  0.888888888888889   -1.33333333333333 ⎤\n",
      "⎢                                                          ⎥\n",
      "⎢-0.111111111111111  0.222222222222222   -0.333333333333333⎥\n",
      "⎢                                                          ⎥\n",
      "⎣0.222222222222222   -0.444444444444444  0.666666666666667 ⎦\n"
     ]
    }
   ],
   "source": [
    "#Rî_j*S\n",
    "Rî_jS = R * S\n",
    "pprint(Rî_jS) \n",
    "\n",
    "#Rî_j*A\n",
    "Rî_jA = R * A\n",
    "pprint(Rî_jA) \n",
    "\n",
    "#A*T_i\n",
    "AT_i = A * T\n",
    "pprint(AT_i) \n",
    "\n",
    "#A*T_i*T_j\n",
    "AT_iT_j = A * T * Tj.T\n",
    "pprint(AT_iT_j) "
   ]
  }
 ],
 "metadata": {
  "kernelspec": {
   "display_name": "Python 3 (ipykernel)",
   "language": "python",
   "name": "python3"
  },
  "language_info": {
   "codemirror_mode": {
    "name": "ipython",
    "version": 3
   },
   "file_extension": ".py",
   "mimetype": "text/x-python",
   "name": "python",
   "nbconvert_exporter": "python",
   "pygments_lexer": "ipython3",
   "version": "3.11.5"
  }
 },
 "nbformat": 4,
 "nbformat_minor": 5
}
