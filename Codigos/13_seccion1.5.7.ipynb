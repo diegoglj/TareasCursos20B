{
 "cells": [
  {
   "cell_type": "code",
   "execution_count": 1,
   "id": "927a8899-1e0b-41b0-afa8-130aa8a54443",
   "metadata": {},
   "outputs": [
    {
     "name": "stdout",
     "output_type": "stream",
     "text": [
      "Trabajo para el caso (a): -3.144732207736361\n",
      "Trabajo para el caso (b): 3.144732207736361\n"
     ]
    }
   ],
   "source": [
    "import numpy as np\n",
    "\n",
    "# Definimos la función del campo de fuerza\n",
    "def campo_de_fuerza(x, y):\n",
    "    Fx = -y / (x**2 + y**2)\n",
    "    Fy = x / (x**2 + y**2)\n",
    "    return np.array([Fx, Fy])\n",
    "\n",
    "# Parametrización del círculo\n",
    "def circulo_parametrizacion(t):\n",
    "    x = np.cos(t)\n",
    "    y = np.sin(t)\n",
    "    return np.array([x, y])\n",
    "\n",
    "# Intervalo de t para cada caso\n",
    "t_a = np.linspace(0, np.pi, 1000)  # (a) desde 0 a π en sentido contrario a las agujas del reloj\n",
    "t_b = np.linspace(0, -np.pi, 1000) # (b) desde 0 a −π en sentido de las agujas del reloj\n",
    "\n",
    "# Calculamos la parametrización y el campo de fuerza en cada punto de la trayectoria\n",
    "param_a = circulo_parametrizacion(t_a)\n",
    "param_b = circulo_parametrizacion(t_b)\n",
    "campo_a = campo_de_fuerza(param_a[0], param_a[1])\n",
    "campo_b = campo_de_fuerza(param_b[0], param_b[1])\n",
    "\n",
    "# Calculamos el trabajo como el producto punto entre el campo de fuerza y la tangente al círculo\n",
    "trabajo_a = -np.sum(np.dot(campo_a, np.gradient(param_a, axis=1).T))\n",
    "trabajo_b = -np.sum(np.dot(campo_b, np.gradient(param_b, axis=1).T))\n",
    "\n",
    "print(\"Trabajo para el caso (a):\", trabajo_a)\n",
    "print(\"Trabajo para el caso (b):\", trabajo_b)"
   ]
  }
 ],
 "metadata": {
  "kernelspec": {
   "display_name": "Python 3 (ipykernel)",
   "language": "python",
   "name": "python3"
  },
  "language_info": {
   "codemirror_mode": {
    "name": "ipython",
    "version": 3
   },
   "file_extension": ".py",
   "mimetype": "text/x-python",
   "name": "python",
   "nbconvert_exporter": "python",
   "pygments_lexer": "ipython3",
   "version": "3.11.5"
  }
 },
 "nbformat": 4,
 "nbformat_minor": 5
}
